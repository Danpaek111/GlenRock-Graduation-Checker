{
 "cells": [
  {
   "cell_type": "code",
   "execution_count": 1,
   "metadata": {},
   "outputs": [],
   "source": [
    "import pandas as pd"
   ]
  },
  {
   "cell_type": "code",
   "execution_count": 2,
   "metadata": {},
   "outputs": [],
   "source": [
    "world_lan = pd.read_csv('processed_data/filled_world_lang.csv')"
   ]
  },
  {
   "cell_type": "code",
   "execution_count": 9,
   "metadata": {},
   "outputs": [
    {
     "data": {
      "text/plain": [
       "0                                    French I\n",
       "1                                   French II\n",
       "2                                  French III\n",
       "3                            Honors French IV\n",
       "4     Advanced Placement (AP) French Language\n",
       "5                                    Latin II\n",
       "6                                   Latin III\n",
       "7                            Honors Latin III\n",
       "8                             Honors Latin IV\n",
       "9                         Mandarin Chinese II\n",
       "10                       Mandarin Chinese III\n",
       "11                 Honors Mandarin Chinese IV\n",
       "12                     Spanish I Fundamentals\n",
       "13                                  Spanish I\n",
       "14                                 Spanish II\n",
       "15                    Spanish II Fundamentals\n",
       "16                          Honors Spanish II\n",
       "17                                Spanish III\n",
       "18                         Honors Spanish III\n",
       "19                                 Spanish IV\n",
       "20                          Honors Spanish IV\n",
       "Name: Name, dtype: object"
      ]
     },
     "execution_count": 9,
     "metadata": {},
     "output_type": "execute_result"
    }
   ],
   "source": [
    "world_lan['Name']"
   ]
  },
  {
   "cell_type": "code",
   "execution_count": null,
   "metadata": {},
   "outputs": [],
   "source": []
  }
 ],
 "metadata": {
  "kernelspec": {
   "display_name": ".venv",
   "language": "python",
   "name": "python3"
  },
  "language_info": {
   "codemirror_mode": {
    "name": "ipython",
    "version": 3
   },
   "file_extension": ".py",
   "mimetype": "text/x-python",
   "name": "python",
   "nbconvert_exporter": "python",
   "pygments_lexer": "ipython3",
   "version": "3.12.1"
  }
 },
 "nbformat": 4,
 "nbformat_minor": 2
}
