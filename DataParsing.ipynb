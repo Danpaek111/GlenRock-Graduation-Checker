{
 "cells": [
  {
   "cell_type": "code",
   "execution_count": 1,
   "metadata": {},
   "outputs": [],
   "source": [
    "# importing required modules\n",
    "import PyPDF2"
   ]
  },
  {
   "cell_type": "code",
   "execution_count": 2,
   "metadata": {},
   "outputs": [
    {
     "name": "stdout",
     "output_type": "stream",
     "text": [
      "67\n"
     ]
    }
   ],
   "source": [
    "# creating a pdf file object\n",
    "pdfFileObj = open('Glen_Rock.pdf', 'rb')\n",
    " \n",
    "# creating a pdf reader object\n",
    "pdfReader = PyPDF2.PdfReader(pdfFileObj)\n",
    " \n",
    "# printing number of pages in pdf file\n",
    "print(len(pdfReader.pages))\n",
    " \n",
    "# creating a page object\n",
    "pageObj = pdfReader.pages[44]\n",
    " \n",
    "# extracting text from page\n",
    "text_44 = pageObj.extract_text()\n",
    "\n",
    "# # closing the pdf file object\n",
    "# pdfFileObj.close()"
   ]
  },
  {
   "cell_type": "code",
   "execution_count": 3,
   "metadata": {},
   "outputs": [],
   "source": [
    "list_of_courses = ['Chemistry', 'Honors Chemistry – Concurrent Enrollment Elective']"
   ]
  },
  {
   "cell_type": "code",
   "execution_count": 13,
   "metadata": {},
   "outputs": [],
   "source": [
    "# page_text is a string variable of a single page\n",
    "# list_of_courses is a list of strings of all the courses offered (e.g. ['Physics', 'Chemistry', 'Biology'])\n",
    "# We want to return the information on that single page.\n",
    "def parse_text(page_text,list_of_courses):\n",
    "  course_list = [] # e.g. ['Chemistry', 'Physics'] --> End result we want\n",
    "  num_of_cred_list = [] # e.g. [4, 4]\n",
    "  grade_list = [] # e.g. ['Grades 10-12 [....]', 'Grade 23 - 2 [...]']\n",
    "  states_code_list = [] # e.g. [1234, 4533]\n",
    "  description_list = [] # e.g. ['Teaches Chemistry', 'Teaches Physics'] --> \n",
    "\n",
    "  ## We want to parse out these information\n",
    "  page_text_split = page_text.split('\\n')\n",
    "  possibly_title = False\n",
    "  found_credits = False\n",
    "  found_grade = False\n",
    "  found_states_code = False\n",
    "  description_started = False\n",
    "  '''State Course Code [03101] '''\n",
    "  for text in page_text_split:\n",
    "    if description_started:\n",
    "      description = description + \" \" + text\n",
    "      count += 1\n",
    "      if count == 30:\n",
    "        description_list.append(description)\n",
    "        description_started = False\n",
    "    elif found_states_code:\n",
    "      # Description is starting with the current text\n",
    "      description = text\n",
    "      count = 1\n",
    "      description_started = True\n",
    "      found_states_code = False\n",
    "    elif found_grade:\n",
    "      if 'State Course Code' in text:\n",
    "        found_states_code = True\n",
    "        states_code_list.append(text)\n",
    "        found_grade = False\n",
    "    elif found_credits: #We already found course name, credit and now have to find the grade of the list\n",
    "      if 'Grades' in text:\n",
    "        found_grade = True\n",
    "        grade_list.append(text)\n",
    "        found_credits = False\n",
    "    elif possibly_title:  #We may have found the top of the course title\n",
    "      if 'credits' in text: # We found it!\n",
    "        found_credits = True\n",
    "        course_list.append(title)\n",
    "        num_of_cred_list.append(text)\n",
    "      possibly_title = False\n",
    "    elif text in list_of_courses: #We did not find any new course yet\n",
    "      possibly_title = True\n",
    "      title = text\n",
    "      continue\n",
    "      \n",
    "  return course_list, num_of_cred_list, grade_list, states_code_list, description_list\n",
    "  "
   ]
  },
  {
   "cell_type": "code",
   "execution_count": 14,
   "metadata": {},
   "outputs": [
    {
     "data": {
      "text/plain": [
       "(['Chemistry', 'Honors Chemistry – Concurrent Enrollment Elective'],\n",
       " ['6 credits ', '6 credits '],\n",
       " ['Grades 9-10 [5533]', 'Grades 9-10 [5531]'],\n",
       " ['State Course Code [03101] ', 'State Course Code [03102] '],\n",
       " ['PREREQUISITE: Algebra I This laboratory-based, college prep course provides students with a broad and general introduction to chemistry.  To explain the nature of fundamental chemical systems, the focus is on relationships',\n",
       "  'PREREQUISITES: Algebra I; Minimum grade of A- in CP Biology or Grade 8 Advanced Biology AND Teacher  Recommendation; or Minimum grade of A- in Advanced Biology OR Teacher Recommendation  Students may choose to earn college credit for this course'])"
      ]
     },
     "execution_count": 14,
     "metadata": {},
     "output_type": "execute_result"
    }
   ],
   "source": [
    "parse_text(text_44, list_of_courses)"
   ]
  },
  {
   "cell_type": "code",
   "execution_count": null,
   "metadata": {},
   "outputs": [],
   "source": [
    "# creating a pdf file object\n",
    "pdfFileObj = open('Glen_Rock.pdf', 'rb')\n",
    " \n",
    "# creating a pdf reader object\n",
    "pdfReader = PyPDF2.PdfReader(pdfFileObj)\n",
    " \n",
    "\n",
    "for i in range(len(pdf.pdfReader.pages)):\n",
    "  pageObj =  pdfReader.pages[44][i]\n",
    "  texts = pageObj.extract_text()\n",
    "  parse_text(text_44, list_of_courses)\n",
    "\n",
    "# # closing the pdf file object\n",
    "# pdfFileObj.close()"
   ]
  }
 ],
 "metadata": {
  "kernelspec": {
   "display_name": "cs4300",
   "language": "python",
   "name": "python3"
  },
  "language_info": {
   "codemirror_mode": {
    "name": "ipython",
    "version": 3
   },
   "file_extension": ".py",
   "mimetype": "text/x-python",
   "name": "python",
   "nbconvert_exporter": "python",
   "pygments_lexer": "ipython3",
   "version": "3.12.1"
  }
 },
 "nbformat": 4,
 "nbformat_minor": 2
}
